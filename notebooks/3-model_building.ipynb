{
 "cells": [
  {
   "cell_type": "markdown",
   "id": "3bb37a00",
   "metadata": {},
   "source": [
    "## Goals\n",
    "- Combine Preprocessor Pipeline with a model\n",
    "- Select a model"
   ]
  },
  {
   "cell_type": "markdown",
   "id": "df0161ff",
   "metadata": {},
   "source": [
    "## Imports"
   ]
  },
  {
   "cell_type": "code",
   "execution_count": 1,
   "id": "bd6a0078",
   "metadata": {},
   "outputs": [],
   "source": [
    "# Built-in\n",
    "import os\n",
    "import pickle"
   ]
  },
  {
   "cell_type": "code",
   "execution_count": 14,
   "id": "a6597fb8",
   "metadata": {},
   "outputs": [],
   "source": [
    "# Exploratory Data Analysis (Visualizing the data)\n",
    "import numpy as np\n",
    "import pandas as pd\n",
    "import matplotlib.pyplot as plt\n",
    "import seaborn as sns\n",
    "from tensorflow.data import Dataset\n",
    "\n",
    "# Pipelines (Building the model pipelines)\n",
    "from sklearn.pipeline import Pipeline\n",
    "from sklearn.compose import ColumnTransformer\n",
    "from scikeras.wrappers import KerasClassifier\n",
    "\n",
    "# Transformers (Transforming the data)\n",
    "from sklearn.preprocessing import FunctionTransformer\n",
    "from tensorflow.keras.preprocessing.image import ImageDataGenerator\n",
    "import cv2\n",
    "\n",
    "# Scalers (Scaling the data)\n",
    "\n",
    "# Selection (Selecting the data/feature)\n",
    "from sklearn.model_selection import train_test_split\n",
    "\n",
    "# Models (Building the models)\n",
    "from tensorflow.keras.models import Sequential\n",
    "from tensorflow.keras.layers import MaxPooling2D, ReLU, Conv2D, Dense, Dropout, Flatten\n",
    "from tensorflow.keras.applications import VGG16, ResNet50\n",
    "\n",
    "# Parameter Tuning (Testing various paramaters)\n",
    "from sklearn.model_selection import GridSearchCV\n",
    "\n",
    "# Metrics (Evaluating the data)\n",
    "from sklearn.metrics import f1_score, accuracy_score, confusion_matrix, classification_report"
   ]
  },
  {
   "cell_type": "code",
   "execution_count": 6,
   "id": "6dc2c1c8",
   "metadata": {},
   "outputs": [],
   "source": [
    "# Local\n",
    "from packages.preprocessing import Preprocessing\n",
    "\n",
    "# Notebook Utilities\n",
    "%matplotlib inline"
   ]
  },
  {
   "cell_type": "markdown",
   "id": "0654327b",
   "metadata": {},
   "source": [
    "## Functions"
   ]
  },
  {
   "cell_type": "code",
   "execution_count": null,
   "id": "05fd288c",
   "metadata": {},
   "outputs": [],
   "source": []
  },
  {
   "cell_type": "markdown",
   "id": "215f7057",
   "metadata": {},
   "source": [
    "## Reading Data"
   ]
  },
  {
   "cell_type": "code",
   "execution_count": 7,
   "id": "37881cf5",
   "metadata": {},
   "outputs": [],
   "source": [
    "data = pd.read_csv('../data/processed/train.csv')\n",
    "v_data = pd.read_csv('../data/processed/validation.csv')"
   ]
  },
  {
   "cell_type": "code",
   "execution_count": 8,
   "id": "74c632a2",
   "metadata": {},
   "outputs": [
    {
     "data": {
      "text/html": [
       "<div>\n",
       "<style scoped>\n",
       "    .dataframe tbody tr th:only-of-type {\n",
       "        vertical-align: middle;\n",
       "    }\n",
       "\n",
       "    .dataframe tbody tr th {\n",
       "        vertical-align: top;\n",
       "    }\n",
       "\n",
       "    .dataframe thead th {\n",
       "        text-align: right;\n",
       "    }\n",
       "</style>\n",
       "<table border=\"1\" class=\"dataframe\">\n",
       "  <thead>\n",
       "    <tr style=\"text-align: right;\">\n",
       "      <th></th>\n",
       "      <th>Image</th>\n",
       "      <th>Width</th>\n",
       "      <th>Height</th>\n",
       "      <th>Label</th>\n",
       "    </tr>\n",
       "  </thead>\n",
       "  <tbody>\n",
       "    <tr>\n",
       "      <th>0</th>\n",
       "      <td>../data/processed/train/Apple Red 1/0_100.jpg</td>\n",
       "      <td>100</td>\n",
       "      <td>100</td>\n",
       "      <td>Apple Red 1</td>\n",
       "    </tr>\n",
       "    <tr>\n",
       "      <th>1</th>\n",
       "      <td>../data/processed/train/Apple Red 1/100_100.jpg</td>\n",
       "      <td>100</td>\n",
       "      <td>100</td>\n",
       "      <td>Apple Red 1</td>\n",
       "    </tr>\n",
       "    <tr>\n",
       "      <th>2</th>\n",
       "      <td>../data/processed/train/Apple Red 1/101_100.jpg</td>\n",
       "      <td>100</td>\n",
       "      <td>100</td>\n",
       "      <td>Apple Red 1</td>\n",
       "    </tr>\n",
       "    <tr>\n",
       "      <th>3</th>\n",
       "      <td>../data/processed/train/Apple Red 1/102_100.jpg</td>\n",
       "      <td>100</td>\n",
       "      <td>100</td>\n",
       "      <td>Apple Red 1</td>\n",
       "    </tr>\n",
       "    <tr>\n",
       "      <th>4</th>\n",
       "      <td>../data/processed/train/Apple Red 1/103_100.jpg</td>\n",
       "      <td>100</td>\n",
       "      <td>100</td>\n",
       "      <td>Apple Red 1</td>\n",
       "    </tr>\n",
       "  </tbody>\n",
       "</table>\n",
       "</div>"
      ],
      "text/plain": [
       "                                             Image  Width  Height        Label\n",
       "0    ../data/processed/train/Apple Red 1/0_100.jpg    100     100  Apple Red 1\n",
       "1  ../data/processed/train/Apple Red 1/100_100.jpg    100     100  Apple Red 1\n",
       "2  ../data/processed/train/Apple Red 1/101_100.jpg    100     100  Apple Red 1\n",
       "3  ../data/processed/train/Apple Red 1/102_100.jpg    100     100  Apple Red 1\n",
       "4  ../data/processed/train/Apple Red 1/103_100.jpg    100     100  Apple Red 1"
      ]
     },
     "execution_count": 8,
     "metadata": {},
     "output_type": "execute_result"
    }
   ],
   "source": [
    "data.head()"
   ]
  },
  {
   "cell_type": "code",
   "execution_count": 9,
   "id": "fcadf6b5",
   "metadata": {},
   "outputs": [
    {
     "data": {
      "text/html": [
       "<div>\n",
       "<style scoped>\n",
       "    .dataframe tbody tr th:only-of-type {\n",
       "        vertical-align: middle;\n",
       "    }\n",
       "\n",
       "    .dataframe tbody tr th {\n",
       "        vertical-align: top;\n",
       "    }\n",
       "\n",
       "    .dataframe thead th {\n",
       "        text-align: right;\n",
       "    }\n",
       "</style>\n",
       "<table border=\"1\" class=\"dataframe\">\n",
       "  <thead>\n",
       "    <tr style=\"text-align: right;\">\n",
       "      <th></th>\n",
       "      <th>Image</th>\n",
       "      <th>Width</th>\n",
       "      <th>Height</th>\n",
       "      <th>Label</th>\n",
       "    </tr>\n",
       "  </thead>\n",
       "  <tbody>\n",
       "    <tr>\n",
       "      <th>0</th>\n",
       "      <td>../data/processed/validation/Apple Red 1/321_1...</td>\n",
       "      <td>100</td>\n",
       "      <td>100</td>\n",
       "      <td>Apple Red 1</td>\n",
       "    </tr>\n",
       "    <tr>\n",
       "      <th>1</th>\n",
       "      <td>../data/processed/validation/Apple Red 1/322_1...</td>\n",
       "      <td>100</td>\n",
       "      <td>100</td>\n",
       "      <td>Apple Red 1</td>\n",
       "    </tr>\n",
       "    <tr>\n",
       "      <th>2</th>\n",
       "      <td>../data/processed/validation/Apple Red 1/323_1...</td>\n",
       "      <td>100</td>\n",
       "      <td>100</td>\n",
       "      <td>Apple Red 1</td>\n",
       "    </tr>\n",
       "    <tr>\n",
       "      <th>3</th>\n",
       "      <td>../data/processed/validation/Apple Red 1/324_1...</td>\n",
       "      <td>100</td>\n",
       "      <td>100</td>\n",
       "      <td>Apple Red 1</td>\n",
       "    </tr>\n",
       "    <tr>\n",
       "      <th>4</th>\n",
       "      <td>../data/processed/validation/Apple Red 1/325_1...</td>\n",
       "      <td>100</td>\n",
       "      <td>100</td>\n",
       "      <td>Apple Red 1</td>\n",
       "    </tr>\n",
       "  </tbody>\n",
       "</table>\n",
       "</div>"
      ],
      "text/plain": [
       "                                               Image  Width  Height  \\\n",
       "0  ../data/processed/validation/Apple Red 1/321_1...    100     100   \n",
       "1  ../data/processed/validation/Apple Red 1/322_1...    100     100   \n",
       "2  ../data/processed/validation/Apple Red 1/323_1...    100     100   \n",
       "3  ../data/processed/validation/Apple Red 1/324_1...    100     100   \n",
       "4  ../data/processed/validation/Apple Red 1/325_1...    100     100   \n",
       "\n",
       "         Label  \n",
       "0  Apple Red 1  \n",
       "1  Apple Red 1  \n",
       "2  Apple Red 1  \n",
       "3  Apple Red 1  \n",
       "4  Apple Red 1  "
      ]
     },
     "execution_count": 9,
     "metadata": {},
     "output_type": "execute_result"
    }
   ],
   "source": [
    "v_data.head()"
   ]
  },
  {
   "cell_type": "markdown",
   "id": "8ad0f522",
   "metadata": {},
   "source": [
    "## Preprocessing Piplelines"
   ]
  },
  {
   "cell_type": "code",
   "execution_count": 10,
   "id": "2639f10d",
   "metadata": {},
   "outputs": [],
   "source": [
    "# with open('../models/preprocessor.pkl', 'rb') as f:\n",
    "#     preprocessor = pickle.load(f)\n",
    "# preprocessor\n",
    "preprocessor = Preprocessing()"
   ]
  },
  {
   "cell_type": "markdown",
   "id": "b4cb211e",
   "metadata": {},
   "source": [
    "## Model Pipeline"
   ]
  },
  {
   "cell_type": "code",
   "execution_count": 25,
   "id": "d2d3302f",
   "metadata": {},
   "outputs": [],
   "source": [
    "model = Sequential()\n",
    "\n",
    "model.add(Conv2D(4, (5, 5), activation='relu', input_shape=(100, 100, 3)))\n",
    "model.add(MaxPooling2D(2, 2))\n",
    "model.add(Conv2D(16, (5, 5), activation='relu'))\n",
    "model.add(MaxPooling2D(2, 2))\n",
    "model.add(Conv2D(32, (5, 5), activation='relu'))\n",
    "model.add(MaxPooling2D(2, 2))\n",
    "model.add(Conv2D(64, (5, 5), activation='relu'))\n",
    "model.add(MaxPooling2D(2, 2))\n",
    "model.add(Flatten())\n",
    "model.add(Dense(64, activation='relu'))\n",
    "model.add(Dense(3, activation='relu'))\n",
    "\n",
    "model.compile(optimizer='adam', \n",
    "              loss='sparse_categorical_crossentropy', \n",
    "              metrics=['accuracy'])"
   ]
  },
  {
   "cell_type": "code",
   "execution_count": 28,
   "id": "8a1e90ca",
   "metadata": {},
   "outputs": [],
   "source": [
    "vgg_model = VGG16(input_ include_top=False, classes=3, pooling='max')"
   ]
  },
  {
   "cell_type": "code",
   "execution_count": 29,
   "id": "90152ce6",
   "metadata": {},
   "outputs": [],
   "source": [
    "vgg_model.compile(optimizer='adam', \n",
    "              loss='sparse_categorical_crossentropy', \n",
    "              metrics=['accuracy'])"
   ]
  },
  {
   "cell_type": "markdown",
   "id": "d0509f45",
   "metadata": {},
   "source": [
    "## Train-Test Split"
   ]
  },
  {
   "cell_type": "code",
   "execution_count": 26,
   "id": "6d0a56e7",
   "metadata": {},
   "outputs": [],
   "source": [
    "train = Dataset.load('../data/processed/train_data/')\n",
    "validation = Dataset.load('../data/processed/validation_data/')"
   ]
  },
  {
   "cell_type": "markdown",
   "id": "92a01213",
   "metadata": {},
   "source": [
    "## Fitting the training values"
   ]
  },
  {
   "cell_type": "code",
   "execution_count": 27,
   "id": "2ceebad5",
   "metadata": {},
   "outputs": [
    {
     "name": "stdout",
     "output_type": "stream",
     "text": [
      "Epoch 1/3\n",
      "47/47 [==============================] - 11s 222ms/step - loss: 6.8242 - accuracy: 0.3670 - val_loss: 6.1093 - val_accuracy: 0.3320\n",
      "Epoch 2/3\n",
      "47/47 [==============================] - 10s 216ms/step - loss: 6.0513 - accuracy: 0.3338 - val_loss: 6.1093 - val_accuracy: 0.3320\n",
      "Epoch 3/3\n",
      "47/47 [==============================] - 10s 218ms/step - loss: 6.0513 - accuracy: 0.3338 - val_loss: 6.1093 - val_accuracy: 0.3320\n"
     ]
    },
    {
     "data": {
      "text/plain": [
       "<keras.callbacks.History at 0x220072d7190>"
      ]
     },
     "execution_count": 27,
     "metadata": {},
     "output_type": "execute_result"
    }
   ],
   "source": [
    "model.fit(train, validation_data=validation, epochs=3)"
   ]
  },
  {
   "cell_type": "code",
   "execution_count": null,
   "id": "60e0c797",
   "metadata": {},
   "outputs": [
    {
     "name": "stdout",
     "output_type": "stream",
     "text": [
      "Epoch 1/3\n",
      "12/47 [======>.......................] - ETA: 4:54 - loss: 17.1740 - accuracy: 0.0000e+00"
     ]
    }
   ],
   "source": [
    "vgg_model.fit(train, validation_data=validation, epochs=3)"
   ]
  },
  {
   "cell_type": "markdown",
   "id": "b39f0a1a",
   "metadata": {},
   "source": [
    "## Evaluating the Model"
   ]
  },
  {
   "cell_type": "code",
   "execution_count": null,
   "id": "4f3f2d27",
   "metadata": {},
   "outputs": [],
   "source": [
    "y_pred = pipe.predict(x_test)"
   ]
  },
  {
   "cell_type": "code",
   "execution_count": null,
   "id": "a99fc6cc",
   "metadata": {},
   "outputs": [],
   "source": [
    "accuracy_score(y_test, y_pred)"
   ]
  },
  {
   "cell_type": "code",
   "execution_count": null,
   "id": "7f7a4da3",
   "metadata": {},
   "outputs": [],
   "source": [
    "f1_score(y_test, y_pred)"
   ]
  },
  {
   "cell_type": "code",
   "execution_count": null,
   "id": "7b1a86c3",
   "metadata": {},
   "outputs": [],
   "source": [
    "cm = confusion_matrix(y_test,y_pred)\n",
    "plt.figure(figsize=(4, 2))\n",
    "plt.title(\"Confusion Matrix\")\n",
    "sns.heatmap(cm, annot=True, fmt='d', cmap='Blues')\n",
    "plt.ylabel(\"Actual Values\")\n",
    "plt.xlabel(\"Predicted Values\")"
   ]
  },
  {
   "cell_type": "code",
   "execution_count": null,
   "id": "ceacfe9f",
   "metadata": {},
   "outputs": [],
   "source": [
    "print(classification_report(y_test, y_pred))"
   ]
  },
  {
   "cell_type": "markdown",
   "id": "bf2442ff",
   "metadata": {},
   "source": [
    "## Model and Parameters Selection"
   ]
  },
  {
   "cell_type": "code",
   "execution_count": null,
   "id": "634d0f3c",
   "metadata": {},
   "outputs": [],
   "source": [
    "pipe.get_params()"
   ]
  },
  {
   "cell_type": "code",
   "execution_count": null,
   "id": "884375dc",
   "metadata": {},
   "outputs": [],
   "source": [
    "# Pipeline Parameters\n",
    "parameters = [\n",
    "    {\n",
    "        'classifier': [model],\n",
    "        \n",
    "        'preprocessor__Continuous__Scaler': [MinMaxScaler(), StandardScaler()],\n",
    "        \n",
    "        'preprocessor__Categorical__Encoder': [OneHotEncoder(drop='first', handle_unknown='ignore'),\n",
    "                                               OrdinalEncoder(handle_unknown='use_encoded_value', unknown_value=10)],\n",
    "    }, \n",
    "]"
   ]
  },
  {
   "cell_type": "code",
   "execution_count": null,
   "id": "3fd27eb1",
   "metadata": {},
   "outputs": [],
   "source": [
    "grid_search = GridSearchCV(pipe, parameters, cv=5, scoring='accuracy', verbose=2)"
   ]
  },
  {
   "cell_type": "code",
   "execution_count": null,
   "id": "6141c8a4",
   "metadata": {},
   "outputs": [],
   "source": [
    "grid_search.fit(x_train, y_train)"
   ]
  },
  {
   "cell_type": "code",
   "execution_count": null,
   "id": "75fedc95",
   "metadata": {},
   "outputs": [],
   "source": [
    "grid_search.best_params_"
   ]
  },
  {
   "cell_type": "code",
   "execution_count": null,
   "id": "0d5e1b2d",
   "metadata": {},
   "outputs": [],
   "source": [
    "grid_search.best_estimator_"
   ]
  },
  {
   "cell_type": "code",
   "execution_count": null,
   "id": "4c843c8b",
   "metadata": {},
   "outputs": [],
   "source": [
    "y_pred = grid_search.predict(x_test)"
   ]
  },
  {
   "cell_type": "markdown",
   "id": "8e494b78",
   "metadata": {},
   "source": [
    "## Evaluating New Model"
   ]
  },
  {
   "cell_type": "code",
   "execution_count": null,
   "id": "24c96e5f",
   "metadata": {},
   "outputs": [],
   "source": [
    "grid_search.score(x_train, y_train)"
   ]
  },
  {
   "cell_type": "code",
   "execution_count": null,
   "id": "bd1ec77d",
   "metadata": {},
   "outputs": [],
   "source": [
    "accuracy_score(y_test, y_pred)"
   ]
  },
  {
   "cell_type": "code",
   "execution_count": null,
   "id": "66b0f7f9",
   "metadata": {},
   "outputs": [],
   "source": [
    "f1_score(y_test, y_pred)"
   ]
  },
  {
   "cell_type": "code",
   "execution_count": null,
   "id": "636163ba",
   "metadata": {},
   "outputs": [],
   "source": [
    "cm = confusion_matrix(y_test,y_pred)\n",
    "plt.figure(figsize=(4,2))\n",
    "plt.title(\"Confusion Matrix\")\n",
    "sns.heatmap(cm, annot=True, fmt='d', cmap='Blues')\n",
    "plt.ylabel(\"Actual Values\")\n",
    "plt.xlabel(\"Predicted Values\")"
   ]
  },
  {
   "cell_type": "code",
   "execution_count": null,
   "id": "90772c99",
   "metadata": {},
   "outputs": [],
   "source": [
    "print(classification_report(y_test, y_pred))"
   ]
  },
  {
   "cell_type": "markdown",
   "id": "ef3720f2",
   "metadata": {},
   "source": [
    "## Saving the Model"
   ]
  },
  {
   "cell_type": "code",
   "execution_count": null,
   "id": "ed38810f",
   "metadata": {},
   "outputs": [],
   "source": [
    "with open('models/model.pkl', 'wb') as f:\n",
    "    pickle.dump(grid_search.best_estimator_, f)"
   ]
  },
  {
   "cell_type": "markdown",
   "id": "ab0079cd",
   "metadata": {},
   "source": [
    "## Saving the Data"
   ]
  },
  {
   "cell_type": "code",
   "execution_count": null,
   "id": "ada06d8e",
   "metadata": {},
   "outputs": [],
   "source": [
    "x_train.to_csv('data/processed/x_train.csv', index=False)\n",
    "x_test.to_csv('data/processed/x_test.csv', index=False)\n",
    "y_train.to_csv('data/processed/y_train.csv', index=False)\n",
    "y_test.to_csv('data/processed/y_test.csv', index=False)"
   ]
  },
  {
   "cell_type": "markdown",
   "id": "e7320042",
   "metadata": {},
   "source": [
    "## Saving the Predicted Values"
   ]
  },
  {
   "cell_type": "code",
   "execution_count": null,
   "id": "e3f78bfd",
   "metadata": {},
   "outputs": [],
   "source": [
    "results = pd.DataFrame(y_pred, columns=['Exited'])\n",
    "results.to_csv('data/predicted/predicted.csv', index=False)\n",
    "results.head()"
   ]
  },
  {
   "cell_type": "markdown",
   "id": "22ec9005",
   "metadata": {},
   "source": [
    "## Conclusions\n",
    "- Added Model to the pipeline\n",
    "- Tried various parameters using GridSearchCV\n",
    "- Got the model with best performance using GridSearchCV\n",
    "- Evaluated the Model's Performance"
   ]
  }
 ],
 "metadata": {
  "kernelspec": {
   "display_name": "Python 3 (ipykernel)",
   "language": "python",
   "name": "python3"
  },
  "language_info": {
   "codemirror_mode": {
    "name": "ipython",
    "version": 3
   },
   "file_extension": ".py",
   "mimetype": "text/x-python",
   "name": "python",
   "nbconvert_exporter": "python",
   "pygments_lexer": "ipython3",
   "version": "3.10.6"
  }
 },
 "nbformat": 4,
 "nbformat_minor": 5
}
